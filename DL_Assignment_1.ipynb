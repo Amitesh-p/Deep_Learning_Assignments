{
 "cells": [
  {
   "cell_type": "markdown",
   "metadata": {},
   "source": [
    "# Deep Learning Assignment 1\n",
    "\n",
    "Objective: - Predict Next Sequence\n",
    "To start with deep learning, the very basic project that you can build is to\n",
    "predict the next digit in a sequence.\n",
    "\n",
    "Dataset: - Create a sequence like a list of odd numbers and then build a model\n",
    "and train it to predict the next digit in the sequence.\n",
    "\n",
    "Task: - A simple neural network with 2 layers would be sufficient to build the\n",
    "model.\n",
    "\n",
    "Assignment Submission: - Only submit the Google Colab/Github link.(Make the\n",
    "Link Public)."
   ]
  },
  {
   "cell_type": "code",
   "execution_count": 2,
   "metadata": {},
   "outputs": [],
   "source": [
    "import numpy as np \n",
    "import pandas as pd\n",
    "import tensorflow as tf "
   ]
  },
  {
   "cell_type": "markdown",
   "metadata": {},
   "source": [
    "# creating a dataset "
   ]
  },
  {
   "cell_type": "code",
   "execution_count": 3,
   "metadata": {},
   "outputs": [
    {
     "data": {
      "text/plain": [
       "array([['0', '0', '0', '0', '0', '0', '0', '0', '0', '0', '0', '0', '0',\n",
       "        '0', '0', '0', '0', '0', '0', '0', '0', '0', '0', '0', '0', '0',\n",
       "        '0', '0', '1', '0', '1', '0'],\n",
       "       ['0', '0', '0', '0', '0', '0', '0', '0', '0', '0', '0', '0', '0',\n",
       "        '0', '0', '0', '0', '0', '0', '0', '0', '0', '0', '0', '0', '0',\n",
       "        '0', '0', '1', '1', '0', '0'],\n",
       "       ['0', '0', '0', '0', '0', '0', '0', '0', '0', '0', '0', '0', '0',\n",
       "        '0', '0', '0', '0', '0', '0', '0', '0', '0', '0', '0', '0', '0',\n",
       "        '0', '0', '1', '1', '1', '0']], dtype='<U1')"
      ]
     },
     "execution_count": 3,
     "metadata": {},
     "output_type": "execute_result"
    }
   ],
   "source": [
    "def formating(x):\n",
    "    a = format(x, '032b')   # padding a number with zeros to create an array of 32bit binary numbers \n",
    "    l = list(a)\n",
    "    return l\n",
    "\n",
    "data = [formating(i) for i in range(100)]\n",
    "X = np.array(data)\n",
    "X[10:15:2]"
   ]
  },
  {
   "cell_type": "code",
   "execution_count": 4,
   "metadata": {},
   "outputs": [
    {
     "data": {
      "text/plain": [
       "(100,)"
      ]
     },
     "execution_count": 4,
     "metadata": {},
     "output_type": "execute_result"
    }
   ],
   "source": [
    "Y = []\n",
    "for i in range(100):\n",
    "    if i%3 == 0:\n",
    "           Y.append(0)     # 0 indicating odd number \n",
    "    else:\n",
    "           Y.append(1)    # 1 indicating even nmber\n",
    "Y = np.array(Y)\n",
    "Y.shape"
   ]
  },
  {
   "cell_type": "code",
   "execution_count": 5,
   "metadata": {},
   "outputs": [],
   "source": [
    "from tensorflow.keras.utils import to_categorical\n",
    "\n",
    "Y = to_categorical(Y,2)"
   ]
  },
  {
   "cell_type": "code",
   "execution_count": 6,
   "metadata": {},
   "outputs": [
    {
     "data": {
      "text/plain": [
       "((100, 32), (100, 2), 100)"
      ]
     },
     "execution_count": 6,
     "metadata": {},
     "output_type": "execute_result"
    }
   ],
   "source": [
    "X.shape, Y.shape,len(X)"
   ]
  },
  {
   "cell_type": "code",
   "execution_count": 7,
   "metadata": {},
   "outputs": [
    {
     "data": {
      "text/plain": [
       "dtype('<U1')"
      ]
     },
     "execution_count": 7,
     "metadata": {},
     "output_type": "execute_result"
    }
   ],
   "source": [
    "X.dtype"
   ]
  },
  {
   "cell_type": "code",
   "execution_count": 8,
   "metadata": {},
   "outputs": [],
   "source": [
    "model = tf.keras.models.Sequential()"
   ]
  },
  {
   "cell_type": "code",
   "execution_count": 9,
   "metadata": {},
   "outputs": [
    {
     "name": "stdout",
     "output_type": "stream",
     "text": [
      "WARNING:tensorflow:From C:\\Users\\lenovo\\.conda\\envs\\$PYTHON36_ENV_NAME\\lib\\site-packages\\tensorflow\\python\\ops\\init_ops.py:1251: calling VarianceScaling.__init__ (from tensorflow.python.ops.init_ops) with dtype is deprecated and will be removed in a future version.\n",
      "Instructions for updating:\n",
      "Call initializer instance with the dtype argument instead of passing it to the constructor\n"
     ]
    }
   ],
   "source": [
    "model.add(tf.keras.layers.Dense(1, input_shape= (32,),activation = 'relu'))"
   ]
  },
  {
   "cell_type": "code",
   "execution_count": 10,
   "metadata": {},
   "outputs": [],
   "source": [
    "model.add(tf.keras.layers.Dense(2, activation = 'sigmoid'))"
   ]
  },
  {
   "cell_type": "code",
   "execution_count": 11,
   "metadata": {},
   "outputs": [
    {
     "name": "stdout",
     "output_type": "stream",
     "text": [
      "Model: \"sequential\"\n",
      "_________________________________________________________________\n",
      "Layer (type)                 Output Shape              Param #   \n",
      "=================================================================\n",
      "dense (Dense)                (None, 1)                 33        \n",
      "_________________________________________________________________\n",
      "dense_1 (Dense)              (None, 2)                 4         \n",
      "=================================================================\n",
      "Total params: 37\n",
      "Trainable params: 37\n",
      "Non-trainable params: 0\n",
      "_________________________________________________________________\n"
     ]
    }
   ],
   "source": [
    "model.summary()"
   ]
  },
  {
   "cell_type": "code",
   "execution_count": 12,
   "metadata": {},
   "outputs": [
    {
     "name": "stdout",
     "output_type": "stream",
     "text": [
      "WARNING:tensorflow:From C:\\Users\\lenovo\\.conda\\envs\\$PYTHON36_ENV_NAME\\lib\\site-packages\\tensorflow\\python\\ops\\nn_impl.py:180: add_dispatch_support.<locals>.wrapper (from tensorflow.python.ops.array_ops) is deprecated and will be removed in a future version.\n",
      "Instructions for updating:\n",
      "Use tf.where in 2.0, which has the same broadcast rule as np.where\n"
     ]
    }
   ],
   "source": [
    "model.compile(loss='binary_crossentropy', optimizer='adam', metrics=['accuracy'])"
   ]
  },
  {
   "cell_type": "code",
   "execution_count": 23,
   "metadata": {},
   "outputs": [
    {
     "name": "stdout",
     "output_type": "stream",
     "text": [
      "Epoch 1/100\n",
      "100/100 [==============================] - 0s 150us/sample - loss: 0.6473 - acc: 0.6600\n",
      "Epoch 2/100\n",
      "100/100 [==============================] - 0s 220us/sample - loss: 0.6472 - acc: 0.6600\n",
      "Epoch 3/100\n",
      "100/100 [==============================] - 0s 200us/sample - loss: 0.6471 - acc: 0.6600\n",
      "Epoch 4/100\n",
      "100/100 [==============================] - 0s 180us/sample - loss: 0.6470 - acc: 0.6600\n",
      "Epoch 5/100\n",
      "100/100 [==============================] - 0s 170us/sample - loss: 0.6470 - acc: 0.6600\n",
      "Epoch 6/100\n",
      "100/100 [==============================] - 0s 170us/sample - loss: 0.6469 - acc: 0.6600\n",
      "Epoch 7/100\n",
      "100/100 [==============================] - 0s 160us/sample - loss: 0.6467 - acc: 0.6600\n",
      "Epoch 8/100\n",
      "100/100 [==============================] - 0s 160us/sample - loss: 0.6467 - acc: 0.6600\n",
      "Epoch 9/100\n",
      "100/100 [==============================] - 0s 160us/sample - loss: 0.6466 - acc: 0.6600\n",
      "Epoch 10/100\n",
      "100/100 [==============================] - 0s 148us/sample - loss: 0.6465 - acc: 0.6600\n",
      "Epoch 11/100\n",
      "100/100 [==============================] - 0s 160us/sample - loss: 0.6464 - acc: 0.6600\n",
      "Epoch 12/100\n",
      "100/100 [==============================] - 0s 150us/sample - loss: 0.6463 - acc: 0.6600\n",
      "Epoch 13/100\n",
      "100/100 [==============================] - 0s 180us/sample - loss: 0.6462 - acc: 0.6600\n",
      "Epoch 14/100\n",
      "100/100 [==============================] - 0s 170us/sample - loss: 0.6461 - acc: 0.6600\n",
      "Epoch 15/100\n",
      "100/100 [==============================] - 0s 180us/sample - loss: 0.6459 - acc: 0.6600\n",
      "Epoch 16/100\n",
      "100/100 [==============================] - 0s 180us/sample - loss: 0.6458 - acc: 0.6600\n",
      "Epoch 17/100\n",
      "100/100 [==============================] - 0s 210us/sample - loss: 0.6458 - acc: 0.6600\n",
      "Epoch 18/100\n",
      "100/100 [==============================] - 0s 160us/sample - loss: 0.6457 - acc: 0.6600\n",
      "Epoch 19/100\n",
      "100/100 [==============================] - 0s 190us/sample - loss: 0.6456 - acc: 0.6600\n",
      "Epoch 20/100\n",
      "100/100 [==============================] - 0s 170us/sample - loss: 0.6456 - acc: 0.6600\n",
      "Epoch 21/100\n",
      "100/100 [==============================] - 0s 170us/sample - loss: 0.6456 - acc: 0.6600\n",
      "Epoch 22/100\n",
      "100/100 [==============================] - 0s 170us/sample - loss: 0.6455 - acc: 0.6600\n",
      "Epoch 23/100\n",
      "100/100 [==============================] - 0s 170us/sample - loss: 0.6454 - acc: 0.6600\n",
      "Epoch 24/100\n",
      "100/100 [==============================] - 0s 170us/sample - loss: 0.6453 - acc: 0.6600\n",
      "Epoch 25/100\n",
      "100/100 [==============================] - 0s 150us/sample - loss: 0.6453 - acc: 0.6600\n",
      "Epoch 26/100\n",
      "100/100 [==============================] - 0s 170us/sample - loss: 0.6452 - acc: 0.6600\n",
      "Epoch 27/100\n",
      "100/100 [==============================] - ETA: 0s - loss: 0.6321 - acc: 0.687 - 0s 180us/sample - loss: 0.6451 - acc: 0.6600\n",
      "Epoch 28/100\n",
      "100/100 [==============================] - 0s 160us/sample - loss: 0.6451 - acc: 0.6600\n",
      "Epoch 29/100\n",
      "100/100 [==============================] - 0s 190us/sample - loss: 0.6450 - acc: 0.6600\n",
      "Epoch 30/100\n",
      "100/100 [==============================] - 0s 150us/sample - loss: 0.6450 - acc: 0.6600\n",
      "Epoch 31/100\n",
      "100/100 [==============================] - 0s 190us/sample - loss: 0.6450 - acc: 0.6600\n",
      "Epoch 32/100\n",
      "100/100 [==============================] - 0s 170us/sample - loss: 0.6450 - acc: 0.6600\n",
      "Epoch 33/100\n",
      "100/100 [==============================] - 0s 180us/sample - loss: 0.6449 - acc: 0.6600\n",
      "Epoch 34/100\n",
      "100/100 [==============================] - 0s 170us/sample - loss: 0.6449 - acc: 0.6600\n",
      "Epoch 35/100\n",
      "100/100 [==============================] - 0s 190us/sample - loss: 0.6448 - acc: 0.6600\n",
      "Epoch 36/100\n",
      "100/100 [==============================] - 0s 140us/sample - loss: 0.6448 - acc: 0.6600\n",
      "Epoch 37/100\n",
      "100/100 [==============================] - 0s 200us/sample - loss: 0.6448 - acc: 0.6600\n",
      "Epoch 38/100\n",
      "100/100 [==============================] - 0s 180us/sample - loss: 0.6447 - acc: 0.6600\n",
      "Epoch 39/100\n",
      "100/100 [==============================] - 0s 200us/sample - loss: 0.6447 - acc: 0.6600\n",
      "Epoch 40/100\n",
      "100/100 [==============================] - 0s 150us/sample - loss: 0.6447 - acc: 0.6600\n",
      "Epoch 41/100\n",
      "100/100 [==============================] - 0s 230us/sample - loss: 0.6447 - acc: 0.6600\n",
      "Epoch 42/100\n",
      "100/100 [==============================] - 0s 190us/sample - loss: 0.6446 - acc: 0.6600\n",
      "Epoch 43/100\n",
      "100/100 [==============================] - 0s 160us/sample - loss: 0.6446 - acc: 0.6600\n",
      "Epoch 44/100\n",
      "100/100 [==============================] - 0s 170us/sample - loss: 0.6445 - acc: 0.6600\n",
      "Epoch 45/100\n",
      "100/100 [==============================] - 0s 160us/sample - loss: 0.6445 - acc: 0.6600\n",
      "Epoch 46/100\n",
      "100/100 [==============================] - 0s 220us/sample - loss: 0.6444 - acc: 0.6600\n",
      "Epoch 47/100\n",
      "100/100 [==============================] - 0s 220us/sample - loss: 0.6444 - acc: 0.6600\n",
      "Epoch 48/100\n",
      "100/100 [==============================] - 0s 190us/sample - loss: 0.6444 - acc: 0.6600\n",
      "Epoch 49/100\n",
      "100/100 [==============================] - 0s 200us/sample - loss: 0.6443 - acc: 0.6600\n",
      "Epoch 50/100\n",
      "100/100 [==============================] - 0s 170us/sample - loss: 0.6443 - acc: 0.6600\n",
      "Epoch 51/100\n",
      "100/100 [==============================] - 0s 200us/sample - loss: 0.6443 - acc: 0.6600\n",
      "Epoch 52/100\n",
      "100/100 [==============================] - 0s 200us/sample - loss: 0.6443 - acc: 0.6600\n",
      "Epoch 53/100\n",
      "100/100 [==============================] - 0s 190us/sample - loss: 0.6443 - acc: 0.6600\n",
      "Epoch 54/100\n",
      "100/100 [==============================] - 0s 190us/sample - loss: 0.6442 - acc: 0.6600\n",
      "Epoch 55/100\n",
      "100/100 [==============================] - 0s 200us/sample - loss: 0.6442 - acc: 0.6600\n",
      "Epoch 56/100\n",
      "100/100 [==============================] - 0s 210us/sample - loss: 0.6441 - acc: 0.6600\n",
      "Epoch 57/100\n",
      "100/100 [==============================] - 0s 170us/sample - loss: 0.6440 - acc: 0.6600\n",
      "Epoch 58/100\n",
      "100/100 [==============================] - 0s 160us/sample - loss: 0.6440 - acc: 0.6600\n",
      "Epoch 59/100\n",
      "100/100 [==============================] - 0s 160us/sample - loss: 0.6440 - acc: 0.6600\n",
      "Epoch 60/100\n",
      "100/100 [==============================] - 0s 150us/sample - loss: 0.6439 - acc: 0.6600\n",
      "Epoch 61/100\n",
      "100/100 [==============================] - 0s 150us/sample - loss: 0.6439 - acc: 0.6600\n",
      "Epoch 62/100\n",
      "100/100 [==============================] - 0s 160us/sample - loss: 0.6438 - acc: 0.6600\n",
      "Epoch 63/100\n",
      "100/100 [==============================] - 0s 160us/sample - loss: 0.6438 - acc: 0.6600\n",
      "Epoch 64/100\n",
      "100/100 [==============================] - 0s 130us/sample - loss: 0.6437 - acc: 0.6600\n",
      "Epoch 65/100\n",
      "100/100 [==============================] - 0s 160us/sample - loss: 0.6437 - acc: 0.6600\n",
      "Epoch 66/100\n",
      "100/100 [==============================] - 0s 150us/sample - loss: 0.6437 - acc: 0.6600\n",
      "Epoch 67/100\n",
      "100/100 [==============================] - 0s 180us/sample - loss: 0.6437 - acc: 0.6600\n",
      "Epoch 68/100\n",
      "100/100 [==============================] - 0s 160us/sample - loss: 0.6437 - acc: 0.6600\n",
      "Epoch 69/100\n",
      "100/100 [==============================] - 0s 170us/sample - loss: 0.6437 - acc: 0.6600\n",
      "Epoch 70/100\n",
      "100/100 [==============================] - 0s 150us/sample - loss: 0.6437 - acc: 0.6600\n",
      "Epoch 71/100\n",
      "100/100 [==============================] - 0s 140us/sample - loss: 0.6437 - acc: 0.6600\n",
      "Epoch 72/100\n",
      "100/100 [==============================] - 0s 160us/sample - loss: 0.6437 - acc: 0.6600\n",
      "Epoch 73/100\n",
      "100/100 [==============================] - 0s 170us/sample - loss: 0.6437 - acc: 0.6600\n",
      "Epoch 74/100\n",
      "100/100 [==============================] - 0s 160us/sample - loss: 0.6436 - acc: 0.6600\n",
      "Epoch 75/100\n",
      "100/100 [==============================] - 0s 160us/sample - loss: 0.6436 - acc: 0.6600\n",
      "Epoch 76/100\n",
      "100/100 [==============================] - 0s 160us/sample - loss: 0.6435 - acc: 0.6600\n",
      "Epoch 77/100\n",
      "100/100 [==============================] - 0s 140us/sample - loss: 0.6435 - acc: 0.6600\n",
      "Epoch 78/100\n",
      "100/100 [==============================] - 0s 180us/sample - loss: 0.6435 - acc: 0.6600\n",
      "Epoch 79/100\n",
      "100/100 [==============================] - 0s 170us/sample - loss: 0.6434 - acc: 0.6600\n",
      "Epoch 80/100\n",
      "100/100 [==============================] - 0s 170us/sample - loss: 0.6434 - acc: 0.6600\n",
      "Epoch 81/100\n"
     ]
    },
    {
     "name": "stdout",
     "output_type": "stream",
     "text": [
      "100/100 [==============================] - 0s 170us/sample - loss: 0.6434 - acc: 0.6600\n",
      "Epoch 82/100\n",
      "100/100 [==============================] - 0s 200us/sample - loss: 0.6433 - acc: 0.6600\n",
      "Epoch 83/100\n",
      "100/100 [==============================] - 0s 170us/sample - loss: 0.6433 - acc: 0.6600\n",
      "Epoch 84/100\n",
      "100/100 [==============================] - 0s 160us/sample - loss: 0.6433 - acc: 0.6600\n",
      "Epoch 85/100\n",
      "100/100 [==============================] - 0s 173us/sample - loss: 0.6433 - acc: 0.6600\n",
      "Epoch 86/100\n",
      "100/100 [==============================] - 0s 150us/sample - loss: 0.6433 - acc: 0.6600\n",
      "Epoch 87/100\n",
      "100/100 [==============================] - 0s 160us/sample - loss: 0.6432 - acc: 0.6600\n",
      "Epoch 88/100\n",
      "100/100 [==============================] - 0s 150us/sample - loss: 0.6432 - acc: 0.6600\n",
      "Epoch 89/100\n",
      "100/100 [==============================] - 0s 160us/sample - loss: 0.6432 - acc: 0.6600\n",
      "Epoch 90/100\n",
      "100/100 [==============================] - 0s 160us/sample - loss: 0.6431 - acc: 0.6600\n",
      "Epoch 91/100\n",
      "100/100 [==============================] - 0s 132us/sample - loss: 0.6431 - acc: 0.6600\n",
      "Epoch 92/100\n",
      "100/100 [==============================] - 0s 150us/sample - loss: 0.6430 - acc: 0.6600\n",
      "Epoch 93/100\n",
      "100/100 [==============================] - 0s 140us/sample - loss: 0.6430 - acc: 0.6600\n",
      "Epoch 94/100\n",
      "100/100 [==============================] - 0s 150us/sample - loss: 0.6429 - acc: 0.6600\n",
      "Epoch 95/100\n",
      "100/100 [==============================] - 0s 160us/sample - loss: 0.6429 - acc: 0.6600\n",
      "Epoch 96/100\n",
      "100/100 [==============================] - 0s 140us/sample - loss: 0.6429 - acc: 0.6600\n",
      "Epoch 97/100\n",
      "100/100 [==============================] - 0s 150us/sample - loss: 0.6428 - acc: 0.6600\n",
      "Epoch 98/100\n",
      "100/100 [==============================] - 0s 130us/sample - loss: 0.6428 - acc: 0.6600\n",
      "Epoch 99/100\n",
      "100/100 [==============================] - 0s 150us/sample - loss: 0.6427 - acc: 0.6600\n",
      "Epoch 100/100\n",
      "100/100 [==============================] - 0s 160us/sample - loss: 0.6427 - acc: 0.6600\n"
     ]
    },
    {
     "data": {
      "text/plain": [
       "<tensorflow.python.keras.callbacks.History at 0x21770f6f940>"
      ]
     },
     "execution_count": 23,
     "metadata": {},
     "output_type": "execute_result"
    }
   ],
   "source": [
    "model.fit(X, Y, epochs = 100)"
   ]
  },
  {
   "cell_type": "code",
   "execution_count": 24,
   "metadata": {},
   "outputs": [],
   "source": [
    "Y_predict = model.predict(X)"
   ]
  },
  {
   "cell_type": "code",
   "execution_count": null,
   "metadata": {},
   "outputs": [],
   "source": []
  },
  {
   "cell_type": "code",
   "execution_count": null,
   "metadata": {},
   "outputs": [],
   "source": []
  }
 ],
 "metadata": {
  "kernelspec": {
   "display_name": "Python 3",
   "language": "python",
   "name": "python3"
  },
  "language_info": {
   "codemirror_mode": {
    "name": "ipython",
    "version": 3
   },
   "file_extension": ".py",
   "mimetype": "text/x-python",
   "name": "python",
   "nbconvert_exporter": "python",
   "pygments_lexer": "ipython3",
   "version": "3.6.10"
  }
 },
 "nbformat": 4,
 "nbformat_minor": 4
}
